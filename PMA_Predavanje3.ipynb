{
 "cells": [
  {
   "cell_type": "code",
   "execution_count": 19,
   "metadata": {
    "collapsed": true
   },
   "outputs": [
    {
     "name": "stdout",
     "output_type": "stream",
     "text": [
      "Hello World\n",
      "Koji kurac da tu radim?\n"
     ]
    }
   ],
   "source": [
    "print('Hello World')\n",
    "print('Koji kurac da tu radim?')"
   ]
  },
  {
   "cell_type": "code",
   "execution_count": 20,
   "outputs": [
    {
     "name": "stdout",
     "output_type": "stream",
     "text": [
      "Ufff\n"
     ]
    }
   ],
   "source": [
    "print('Ufff')"
   ],
   "metadata": {
    "collapsed": false,
    "pycharm": {
     "name": "#%%\n"
    }
   }
  },
  {
   "cell_type": "code",
   "execution_count": 21,
   "outputs": [
    {
     "name": "stdout",
     "output_type": "stream",
     "text": [
      "nije int\n",
      "6\n"
     ]
    }
   ],
   "source": [
    "while True:\n",
    "    try:\n",
    "        a = int(input('Unesite broj: '))\n",
    "        a += 1\n",
    "        print(a)\n",
    "        break\n",
    "    except:\n",
    "        print('nije int')\n",
    "        continue"
   ],
   "metadata": {
    "collapsed": false,
    "pycharm": {
     "name": "#%%\n"
    }
   }
  },
  {
   "cell_type": "code",
   "execution_count": 22,
   "outputs": [
    {
     "name": "stdout",
     "output_type": "stream",
     "text": [
      "bla\n",
      "None\n"
     ]
    }
   ],
   "source": [
    "def funkcija(tip, poruka, greška):\n",
    "    try:\n",
    "        a = input()\n",
    "        return a / 2, poruka\n",
    "    except:\n",
    "        print(greška)\n",
    "\n",
    "print(funkcija(int, 'Bla', 'bla'))\n"
   ],
   "metadata": {
    "collapsed": false,
    "pycharm": {
     "name": "#%%\n"
    }
   }
  },
  {
   "cell_type": "code",
   "execution_count": 23,
   "outputs": [
    {
     "name": "stdout",
     "output_type": "stream",
     "text": [
      "1.0\n"
     ]
    }
   ],
   "source": [
    "def dajKolicnik(djeljenik, djelitelj):\n",
    "    try:\n",
    "        if djelitelj == 0:\n",
    "            raise ZeroDivisionError\n",
    "        k = djeljenik/djelitelj\n",
    "        return k\n",
    "    except ZeroDivisionError:\n",
    "        print('Nije dozvoljeno djeljenje s nulom')\n",
    "\n",
    "print(dajKolicnik(5, 5))"
   ],
   "metadata": {
    "collapsed": false,
    "pycharm": {
     "name": "#%%\n"
    }
   }
  },
  {
   "cell_type": "code",
   "execution_count": null,
   "outputs": [],
   "source": [
    "def poslovnoPravilo():\n",
    "    iznos = int(input())\n",
    "    try:\n",
    "        pass"
   ],
   "metadata": {
    "collapsed": false,
    "pycharm": {
     "name": "#%%\n"
    }
   }
  },
  {
   "cell_type": "code",
   "execution_count": 26,
   "outputs": [
    {
     "name": "stdout",
     "output_type": "stream",
     "text": [
      "2\n"
     ]
    }
   ],
   "source": [
    "a = '-2'\n",
    "print(len(a))"
   ],
   "metadata": {
    "collapsed": false,
    "pycharm": {
     "name": "#%%\n"
    }
   }
  },
  {
   "cell_type": "code",
   "execution_count": 28,
   "outputs": [
    {
     "ename": "AssertionError",
     "evalue": "Funkcije ne prihvaća brojeve manje od 5.",
     "output_type": "error",
     "traceback": [
      "\u001B[1;31m---------------------------------------------------------------------------\u001B[0m",
      "\u001B[1;31mAssertionError\u001B[0m                            Traceback (most recent call last)",
      "Input \u001B[1;32mIn [28]\u001B[0m, in \u001B[0;36m<cell line: 4>\u001B[1;34m()\u001B[0m\n\u001B[0;32m      1\u001B[0m \u001B[38;5;28;01mdef\u001B[39;00m \u001B[38;5;21mprovjeriUvjet\u001B[39m(x):\n\u001B[0;32m      2\u001B[0m     \u001B[38;5;28;01massert\u001B[39;00m x \u001B[38;5;241m>\u001B[39m\u001B[38;5;241m=\u001B[39m \u001B[38;5;241m5\u001B[39m, \u001B[38;5;124m'\u001B[39m\u001B[38;5;124mFunkcije ne prihvaća brojeve manje od 5.\u001B[39m\u001B[38;5;124m'\u001B[39m\n\u001B[1;32m----> 4\u001B[0m \u001B[43mprovjeriUvjet\u001B[49m\u001B[43m(\u001B[49m\u001B[38;5;241;43m4\u001B[39;49m\u001B[43m)\u001B[49m\n",
      "Input \u001B[1;32mIn [28]\u001B[0m, in \u001B[0;36mprovjeriUvjet\u001B[1;34m(x)\u001B[0m\n\u001B[0;32m      1\u001B[0m \u001B[38;5;28;01mdef\u001B[39;00m \u001B[38;5;21mprovjeriUvjet\u001B[39m(x):\n\u001B[1;32m----> 2\u001B[0m     \u001B[38;5;28;01massert\u001B[39;00m x \u001B[38;5;241m>\u001B[39m\u001B[38;5;241m=\u001B[39m \u001B[38;5;241m5\u001B[39m, \u001B[38;5;124m'\u001B[39m\u001B[38;5;124mFunkcije ne prihvaća brojeve manje od 5.\u001B[39m\u001B[38;5;124m'\u001B[39m\n",
      "\u001B[1;31mAssertionError\u001B[0m: Funkcije ne prihvaća brojeve manje od 5."
     ]
    }
   ],
   "source": [
    "def provjeriUvjet(x):\n",
    "    assert x >= 5, 'Funkcije ne prihvaća brojeve manje od 5.'\n",
    "\n",
    "provjeriUvjet(4)"
   ],
   "metadata": {
    "collapsed": false,
    "pycharm": {
     "name": "#%%\n"
    }
   }
  },
  {
   "cell_type": "code",
   "execution_count": 33,
   "outputs": [],
   "source": [
    "class MojException(Exception):\n",
    "    pass\n",
    "\n",
    "def provjeraPravila():\n",
    "    try:\n",
    "        x = int(input('Unesi cijeli broj koji je veći od 5: '))\n",
    "        if x < 5:\n",
    "            raise MojException('Broj mora biti veći od 5')\n",
    "    except MojException as e:\n",
    "        print('Korisnička pogreška:', e)\n",
    "\n",
    "provjeraPravila()"
   ],
   "metadata": {
    "collapsed": false,
    "pycharm": {
     "name": "#%%\n"
    }
   }
  },
  {
   "cell_type": "code",
   "execution_count": 35,
   "outputs": [
    {
     "name": "stdout",
     "output_type": "stream",
     "text": [
      "15\n",
      "18\n"
     ]
    }
   ],
   "source": [
    "KONSTANTA = 5\n",
    "print(KONSTANTA * 3)\n",
    "KONSTANTA = 6\n",
    "print(KONSTANTA * 3)"
   ],
   "metadata": {
    "collapsed": false,
    "pycharm": {
     "name": "#%%\n"
    }
   }
  },
  {
   "cell_type": "code",
   "execution_count": 37,
   "outputs": [
    {
     "name": "stdout",
     "output_type": "stream",
     "text": [
      "8\n",
      "oje im\n",
      "e\n"
     ]
    }
   ],
   "source": [
    "moj_string = 'Moje ime'\n",
    "print(len(moj_string))\n",
    "print(moj_string[1:7])\n",
    "print(moj_string[-1])"
   ],
   "metadata": {
    "collapsed": false,
    "pycharm": {
     "name": "#%%\n"
    }
   }
  },
  {
   "cell_type": "code",
   "execution_count": 40,
   "outputs": [
    {
     "name": "stdout",
     "output_type": "stream",
     "text": [
      "abc\n"
     ]
    }
   ],
   "source": [
    "#print(3 + 'a')\n",
    "str = 'ABC'\n",
    "print(str.lower())"
   ],
   "metadata": {
    "collapsed": false,
    "pycharm": {
     "name": "#%%\n"
    }
   }
  },
  {
   "cell_type": "code",
   "execution_count": 41,
   "outputs": [
    {
     "ename": "SyntaxError",
     "evalue": "invalid syntax (1700553510.py, line 3)",
     "output_type": "error",
     "traceback": [
      "\u001B[1;36m  Input \u001B[1;32mIn [41]\u001B[1;36m\u001B[0m\n\u001B[1;33m    stri = stri.lower([1:])\u001B[0m\n\u001B[1;37m                        ^\u001B[0m\n\u001B[1;31mSyntaxError\u001B[0m\u001B[1;31m:\u001B[0m invalid syntax\n"
     ]
    }
   ],
   "source": [
    "stri = 'aBC'\n",
    "stri = stri.upper([0])\n",
    "stri = stri.lower([1:])\n",
    "print(stri)"
   ],
   "metadata": {
    "collapsed": false,
    "pycharm": {
     "name": "#%%\n"
    }
   }
  }
 ],
 "metadata": {
  "kernelspec": {
   "name": "python3",
   "language": "python",
   "display_name": "Python 3 (ipykernel)"
  },
  "language_info": {
   "codemirror_mode": {
    "name": "ipython",
    "version": 2
   },
   "file_extension": ".py",
   "mimetype": "text/x-python",
   "name": "python",
   "nbconvert_exporter": "python",
   "pygments_lexer": "ipython2",
   "version": "2.7.6"
  }
 },
 "nbformat": 4,
 "nbformat_minor": 0
}